{
  "nbformat": 4,
  "nbformat_minor": 0,
  "metadata": {
    "colab": {
      "name": "PLearn.ipynb",
      "provenance": [],
      "authorship_tag": "ABX9TyPYXUyAhYgHZFoJD3LdSv5K",
      "include_colab_link": true
    },
    "kernelspec": {
      "name": "python3",
      "display_name": "Python 3"
    },
    "language_info": {
      "name": "python"
    }
  },
  "cells": [
    {
      "cell_type": "markdown",
      "metadata": {
        "id": "view-in-github",
        "colab_type": "text"
      },
      "source": [
        "<a href=\"https://colab.research.google.com/github/amarnath87/amarnath87/blob/main/PLearn.ipynb\" target=\"_parent\"><img src=\"https://colab.research.google.com/assets/colab-badge.svg\" alt=\"Open In Colab\"/></a>"
      ]
    },
    {
      "cell_type": "markdown",
      "metadata": {
        "id": "o5TvYz3WI3sl"
      },
      "source": [
        "# Practice Machine Learning"
      ]
    },
    {
      "cell_type": "markdown",
      "metadata": {
        "id": "PQ1A7XCwJBD5"
      },
      "source": [
        "## Importing the libraries"
      ]
    },
    {
      "cell_type": "code",
      "metadata": {
        "id": "UBf2rFtyHoIa"
      },
      "source": [
        "import numpy as np\n",
        "import pandas as pd\n",
        "import matplotlib.pyplot as plt"
      ],
      "execution_count": 6,
      "outputs": []
    },
    {
      "cell_type": "markdown",
      "metadata": {
        "id": "RljXy5u2I3vv"
      },
      "source": [
        "## Crating data set"
      ]
    },
    {
      "cell_type": "code",
      "metadata": {
        "id": "1FWnwjdkKX5_"
      },
      "source": [
        "data = pd.array(np.arange(15))"
      ],
      "execution_count": 7,
      "outputs": []
    },
    {
      "cell_type": "code",
      "metadata": {
        "id": "PkTQLw5pKwOx"
      },
      "source": [
        "dataset = np.arange(16).reshape((4,4))\n",
        "#a = np.arange(6).reshape((3, 2))"
      ],
      "execution_count": 19,
      "outputs": []
    },
    {
      "cell_type": "code",
      "metadata": {
        "colab": {
          "base_uri": "https://localhost:8080/"
        },
        "id": "6aQTL8jrMlLe",
        "outputId": "56dd2844-0895-495b-9783-19be03b54b6f"
      },
      "source": [
        "dataset"
      ],
      "execution_count": 20,
      "outputs": [
        {
          "output_type": "execute_result",
          "data": {
            "text/plain": [
              "array([[ 0,  1,  2,  3],\n",
              "       [ 4,  5,  6,  7],\n",
              "       [ 8,  9, 10, 11],\n",
              "       [12, 13, 14, 15]])"
            ]
          },
          "metadata": {
            "tags": []
          },
          "execution_count": 20
        }
      ]
    },
    {
      "cell_type": "markdown",
      "metadata": {
        "id": "O4rA8TtOI32f"
      },
      "source": [
        ""
      ]
    }
  ]
}