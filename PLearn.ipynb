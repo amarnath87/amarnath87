{
  "nbformat": 4,
  "nbformat_minor": 0,
  "metadata": {
    "colab": {
      "name": "PLearn.ipynb",
      "provenance": [],
      "authorship_tag": "ABX9TyMztD87mB4eWUmqejn7mi6i",
      "include_colab_link": true
    },
    "kernelspec": {
      "name": "python3",
      "display_name": "Python 3"
    },
    "language_info": {
      "name": "python"
    }
  },
  "cells": [
    {
      "cell_type": "markdown",
      "metadata": {
        "id": "view-in-github",
        "colab_type": "text"
      },
      "source": [
        "<a href=\"https://colab.research.google.com/github/amarnath87/amarnath87/blob/main/PLearn.ipynb\" target=\"_parent\"><img src=\"https://colab.research.google.com/assets/colab-badge.svg\" alt=\"Open In Colab\"/></a>"
      ]
    },
    {
      "cell_type": "markdown",
      "metadata": {
        "id": "o5TvYz3WI3sl"
      },
      "source": [
        "# Practice Machine Learning"
      ]
    },
    {
      "cell_type": "markdown",
      "metadata": {
        "id": "PQ1A7XCwJBD5"
      },
      "source": [
        "## Importing the libraries"
      ]
    },
    {
      "cell_type": "code",
      "metadata": {
        "id": "UBf2rFtyHoIa"
      },
      "source": [
        ""
      ],
      "execution_count": null,
      "outputs": []
    },
    {
      "cell_type": "markdown",
      "metadata": {
        "id": "RljXy5u2I3vv"
      },
      "source": [
        ""
      ]
    },
    {
      "cell_type": "markdown",
      "metadata": {
        "id": "O4rA8TtOI32f"
      },
      "source": [
        ""
      ]
    }
  ]
}